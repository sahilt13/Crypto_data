{
 "metadata": {
  "language_info": {
   "codemirror_mode": {
    "name": "ipython",
    "version": 3
   },
   "file_extension": ".py",
   "mimetype": "text/x-python",
   "name": "python",
   "nbconvert_exporter": "python",
   "pygments_lexer": "ipython3",
   "version": "3.8.2"
  },
  "orig_nbformat": 2,
  "kernelspec": {
   "name": "python3",
   "display_name": "Python 3.8.2 64-bit"
  },
  "metadata": {
   "interpreter": {
    "hash": "31f2aee4e71d21fbe5cf8b01ff0e069b9275f58929596ceb00d14d90e3e16cd6"
   }
  },
  "interpreter": {
   "hash": "31f2aee4e71d21fbe5cf8b01ff0e069b9275f58929596ceb00d14d90e3e16cd6"
  }
 },
 "nbformat": 4,
 "nbformat_minor": 2,
 "cells": [
  {
   "cell_type": "code",
   "execution_count": 1,
   "source": [
    "import requests\n",
    "import pandas as pd\n",
    "import json\n",
    "import datetime\n",
    "import math"
   ],
   "outputs": [],
   "metadata": {}
  },
  {
   "cell_type": "code",
   "execution_count": null,
   "source": [
    "#Second\t1SEC, 2SEC, 3SEC, 4SEC, 5SEC, 6SEC, 10SEC, 15SEC, 20SEC, 30SEC\n",
    "#Minute\t1MIN, 2MIN, 3MIN, 4MIN, 5MIN, 6MIN, 10MIN, 15MIN, 20MIN, 30MIN\n",
    "#Hour\t1HRS, 2HRS, 3HRS, 4HRS, 6HRS, 8HRS, 12HRS\n",
    "#Day\t1DAY, 2DAY, 3DAY, 5DAY, 7DAY, 10DAY\n",
    "\n",
    "#https://www.youtube.com/c/ChicoCrypto/videos"
   ],
   "outputs": [],
   "metadata": {}
  },
  {
   "cell_type": "code",
   "execution_count": 2,
   "source": [
    "#api credentials\n",
    "url = 'https://rest.coinapi.io/v1/assets'\n",
    "headers = {'X-CoinAPI-Key' : 'add your key here'}\n",
    "response = requests.get(url, headers=headers)"
   ],
   "outputs": [],
   "metadata": {}
  },
  {
   "cell_type": "code",
   "execution_count": 3,
   "source": [
    "#extracting information of all assets on coinapi\n",
    "data=json.loads(response.text)\n",
    "\n",
    "assets = pd.json_normalize(data)\n",
    "\n",
    "assets.to_csv('./Crypto_data/assets.csv')"
   ],
   "outputs": [],
   "metadata": {}
  },
  {
   "cell_type": "code",
   "execution_count": null,
   "source": [
    "\n",
    "#Setting time period for historical data\n",
    "\n",
    "d1=\"2020-09-01\"\n",
    "d2=\"2021-07-20\"\n",
    "\n",
    "def days_between(d1, d2):\n",
    "    d1 = datetime.datetime.strptime(d1, \"%Y-%m-%d\")\n",
    "    d2 = datetime.datetime.strptime(d2, \"%Y-%m-%d\")\n",
    "    return abs((d2 - d1).days)\n",
    "\n",
    "\n",
    "x=days_between(d1,d2)\n",
    "\n",
    "itr=math.ceil(x/100)\n",
    "\n",
    "print(itr)"
   ],
   "outputs": [],
   "metadata": {}
  },
  {
   "cell_type": "code",
   "execution_count": null,
   "source": [
    "d1 = datetime.datetime.strptime(\"2020-09-01\", \"%Y-%m-%d\")\n",
    "for i in range(1,itr+1):\n",
    "    d2 = d1+datetime.timedelta(days=100)\n",
    "\n",
    "    datestart=str(d1.date())+\"T00:00:00\"\n",
    "    dateend=str(d2.date())+\"T00:00:00\"\n",
    "\n",
    "    print(datestart)\n",
    "    print(dateend)\n",
    "    \n",
    "    d1=d1 + datetime.timedelta(days=101)\n",
    "    "
   ],
   "outputs": [],
   "metadata": {}
  },
  {
   "cell_type": "code",
   "execution_count": 7,
   "source": [
    "#defining function for extracting crypto pairs historical data (candle length can be changed in URL)\n",
    "def crypto_prices(c1, c2):\n",
    "    df_h=pd.DataFrame(columns=['time_period_start','time_period_end','time_open','time_close','rate_open','rate_high','rate_low','rate_close'])\n",
    "\n",
    "    d1 = datetime.datetime.strptime(\"2020-09-01\", \"%Y-%m-%d\")\n",
    "\n",
    "\n",
    "\n",
    "    for i in range(1,itr+1):\n",
    "\n",
    "        d2 = d1+datetime.timedelta(days=100)\n",
    "\n",
    "        datestart=str(d1.date())+\"T00:00:00\"\n",
    "        dateend=str(d2.date())+\"T00:00:00\"\n",
    "\n",
    "        url = 'https://rest.coinapi.io/v1/exchangerate/'+c1+'/'+c2+'/history?period_id=1DAY&time_start='+datestart+'&time_end='+dateend\n",
    "        headers = {'X-CoinAPI-Key' : '92BE33CA-3147-490F-B08E-C7F5D03A32AE'}\n",
    "        response = requests.get(url, headers=headers)\n",
    "\n",
    "        data=json.loads(response.text)\n",
    "\n",
    "        df = pd.json_normalize(data)\n",
    "        df_h=df_h.append(df)\n",
    "\n",
    "        d1=d1 + datetime.timedelta(days=101)\n",
    "        \n",
    "    df_h[\"crypto\"]=c1+\"_\"+c2\n",
    "    df_h.to_csv(f'./Crypto_data/data/{c1}_{c2}_data.csv',index=False)\n",
    "    \n",
    "    return df_h\n",
    "\n",
    "\n"
   ],
   "outputs": [],
   "metadata": {}
  },
  {
   "cell_type": "code",
   "execution_count": 8,
   "source": [
    "#Bitcoin\n",
    "btc_usd_data=crypto_prices(\"BTC\",\"USD\")\n",
    "\n",
    "#ethereum\n",
    "eth_usd_data=crypto_prices(\"ETH\",\"USD\")\n",
    "\n",
    "#cardano\n",
    "ada_usd_data=crypto_prices(\"ADA\",\"USD\")\n",
    "\n",
    "#Bird\n",
    "bird_usd_data=crypto_prices(\"BIRD\",\"USD\")\n",
    "\n",
    "#Travala\n",
    "ava_usd_data=crypto_prices(\"AVA\",\"USD\")\n",
    "\n",
    "#chain_games\n",
    "chain_usd_data=crypto_prices(\"CHAIN\",\"USD\")\n",
    "\n",
    "#trust swap token\n",
    "swap_usd_data=crypto_prices(\"SWAP\",\"USD\")\n",
    "\n",
    "#Enjin coin token\n",
    "enjin_usd_data=crypto_prices(\"ENJ\",\"USD\")\n",
    "\n",
    "#Atari token token\n",
    "atari_usd_data=crypto_prices(\"ATRI\",\"USD\")\n",
    "\n",
    "#verasity token\n",
    "verasity_usd_data=crypto_prices(\"VRA\",\"USD\")\n",
    "\n",
    "#decentraland(mana) token\n",
    "decentraland_usd_data=crypto_prices(\"MANA\",\"USD\")\n",
    "\n",
    "#Phala network token\n",
    "phala_usd_data=crypto_prices(\"PHA\",\"USD\")\n",
    "\n",
    "#oraichain token\n",
    "orai_usd_data=crypto_prices(\"ORAI\",\"USD\")\n",
    "\n",
    "#Bird\n",
    "bird_usd_data=crypto_prices(\"BIRD\",\"USD\")\n",
    "\n",
    "#Axie\n",
    "axi_usd_data=crypto_prices(\"AXS\",\"USD\")\n",
    "\n",
    "#polkadot\n",
    "dot_usd_data=crypto_prices(\"DOT\",\"USD\")\n",
    "\n",
    "#kusama\n",
    "kusama_usd_data=crypto_prices(\"KSM\",\"USD\")\n",
    "\n",
    "#algorand\n",
    "algo_usd_data=crypto_prices(\"ALGO\",\"USD\")\n",
    "\n",
    "#solana\n",
    "sol_usd_data=crypto_prices(\"SOL\",\"USD\")\n",
    "\n",
    "#cosmos\n",
    "atom_usd_data=crypto_prices(\"ATOM\",\"USD\")\n",
    "\n",
    "\n"
   ],
   "outputs": [],
   "metadata": {}
  },
  {
   "cell_type": "code",
   "execution_count": 8,
   "source": [
    "#Atari token token\n",
    "atari_usd_data=crypto_prices(\"ATRI\",\"USD\")"
   ],
   "outputs": [],
   "metadata": {}
  },
  {
   "cell_type": "code",
   "execution_count": 45,
   "source": [
    "def datatocsv(dataset,name):\n",
    "  \n",
    "    dataset.to_csv(f'./Crypto_data/data/{name}.csv')\n"
   ],
   "outputs": [],
   "metadata": {}
  },
  {
   "cell_type": "code",
   "execution_count": 47,
   "source": [
    "datatocsv(btc_usd_data,\"btc\")\n",
    "datatocsv(eth_usd_data,\"eth\")\n",
    "datatocsv(ada_usd_data,\"ada\")\n",
    "datatocsv(bird_usd_data,\"bird\")\n",
    "datatocsv(ava_usd_data,\"ava\")\n",
    "datatocsv(chain_usd_data,\"chain\")\n",
    "datatocsv(swap_usd_data,\"trust_swap\")\n",
    "datatocsv(enjin_usd_data,\"enjin\")\n"
   ],
   "outputs": [],
   "metadata": {}
  }
 ]
}